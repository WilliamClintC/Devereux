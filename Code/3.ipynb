{
 "cells": [
  {
   "cell_type": "code",
   "execution_count": null,
   "id": "f0d840bc",
   "metadata": {},
   "outputs": [],
   "source": [
    "import pandas as pd\n",
    "\n",
    "# Load the Excel file\n",
    "file_path = r\"C:\\Users\\Owner\\Desktop\\Devereux\\data\\Inflation Targeting Dataset Inflation Targets, Bands, and Track Records\\Inflation Targeting Dataset Inflation Targets, Bands, and Track Records\\Inflation targeting dataset_Zhang 2025 May online version.xlsx\"\n",
    "excel_data = pd.read_excel(file_path, sheet_name=None)  # Load all sheets as a dict\n",
    "# Display the sheet names\n",
    "list(excel_data.keys())"
   ]
  }
 ],
 "metadata": {
  "kernelspec": {
   "display_name": "Python 3",
   "language": "python",
   "name": "python3"
  },
  "language_info": {
   "codemirror_mode": {
    "name": "ipython",
    "version": 3
   },
   "file_extension": ".py",
   "mimetype": "text/x-python",
   "name": "python",
   "nbconvert_exporter": "python",
   "pygments_lexer": "ipython3",
   "version": "3.11.9"
  }
 },
 "nbformat": 4,
 "nbformat_minor": 5
}
